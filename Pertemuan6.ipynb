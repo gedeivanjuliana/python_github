{
 "cells": [
  {
   "cell_type": "markdown",
   "metadata": {},
   "source": [
    "dictionary"
   ]
  },
  {
   "cell_type": "code",
   "execution_count": 5,
   "metadata": {},
   "outputs": [
    {
     "name": "stdout",
     "output_type": "stream",
     "text": [
      "agung\n",
      "agung\n"
     ]
    }
   ],
   "source": [
    "data1 = {\n",
    "    \"nama\" : \"agung\",\n",
    "    \"alamat\" : \"denpasar\"\n",
    "}\n",
    "data2 = dict(nama = \"agung\", alamat = \"denpasar\")\n",
    "print(data1[\"nama\"])\n",
    "print(data2[\"nama\"])"
   ]
  },
  {
   "cell_type": "code",
   "execution_count": 6,
   "metadata": {},
   "outputs": [
    {
     "name": "stdout",
     "output_type": "stream",
     "text": [
      "{'nama': 'wahyu', 'alamat': 'denpasar'}\n"
     ]
    }
   ],
   "source": [
    "# ubah data dictionary\n",
    "\n",
    "data1 = {\n",
    "    \"nama\" : \"agung\",\n",
    "    \"alamat\" : \"denpasar\"\n",
    "}\n",
    "\n",
    "data1[\"nama\"] = \"wahyu\"\n",
    "print(data1)"
   ]
  },
  {
   "cell_type": "code",
   "execution_count": 7,
   "metadata": {},
   "outputs": [
    {
     "name": "stdout",
     "output_type": "stream",
     "text": [
      "{'alamat': 'denpasar'}\n"
     ]
    }
   ],
   "source": [
    "# hapus data dictionary\n",
    "data1 = {\n",
    "    \"nama\" : \"agung\",\n",
    "    \"alamat\" : \"denpasar\"\n",
    "}\n",
    "del data1[\"nama\"]\n",
    "print(data1)\n"
   ]
  },
  {
   "cell_type": "code",
   "execution_count": 8,
   "metadata": {},
   "outputs": [
    {
     "name": "stdout",
     "output_type": "stream",
     "text": [
      "{'alamat': 'denpasar'}\n",
      "agung\n"
     ]
    }
   ],
   "source": [
    "data1 = {\n",
    "    \"nama\" : \"agung\",\n",
    "    \"alamat\" : \"denpasar\"\n",
    "}\n",
    "hapus = data1. pop(\"nama\")\n",
    "print(data1)\n",
    "print(hapus)"
   ]
  },
  {
   "cell_type": "code",
   "execution_count": 9,
   "metadata": {},
   "outputs": [
    {
     "name": "stdout",
     "output_type": "stream",
     "text": [
      "{'nama': 'agung', 'alamat': 'denpasar', 'password': 'admin'}\n"
     ]
    }
   ],
   "source": [
    "# menambahkan data ke dictionary\n",
    "data1 = {\n",
    "    \"nama\" : \"agung\",\n",
    "    \"alamat\" : \"denpasar\"\n",
    "}\n",
    "data1.update({\"password\" : \"admin\"})\n",
    "print(data1)"
   ]
  },
  {
   "cell_type": "code",
   "execution_count": 10,
   "metadata": {},
   "outputs": [
    {
     "name": "stdout",
     "output_type": "stream",
     "text": [
      "4\n",
      "2\n"
     ]
    }
   ],
   "source": [
    "data = [1,2,3,4]\n",
    "data1 = {\n",
    "    \"nama\" : \"agung\",\n",
    "    \"alamat\" : \"denpasar\"\n",
    "}\n",
    "print(len(data))\n",
    "print(len(data1))"
   ]
  },
  {
   "cell_type": "markdown",
   "metadata": {},
   "source": [
    "assignment"
   ]
  },
  {
   "cell_type": "code",
   "execution_count": 15,
   "metadata": {},
   "outputs": [
    {
     "name": "stdout",
     "output_type": "stream",
     "text": [
      "nama = Robert\n",
      "umur = 12\n",
      "alamat = Jalan Tukad Batanghari\n",
      "username = robertrobert\n",
      "password = 12345\n"
     ]
    }
   ],
   "source": [
    "value1 = input(\"masukan nama :\")\n",
    "value2 = input(\"Masukan Umur :\")\n",
    "value3 = input(\"Masukan Alamat :\")\n",
    "value4 = input(\"Masukan Usernama : \")\n",
    "value5 = input(\"Masukan Password : \")\n",
    "\n",
    "data = {\n",
    "    \"nama\" : value1, \n",
    "    \"umur\" : value2,\n",
    "    \"alamat\" : value3,\n",
    "    \"username\" : value4,\n",
    "    \"password\" : value5\n",
    "}\n",
    "\n",
    "print(f\"nama = {data[\"nama\"]}\")\n",
    "print(f\"umur = {data[\"umur\"]}\")\n",
    "print(f\"alamat = {data[\"alamat\"]}\")\n",
    "print(f\"username = {data[\"username\"]}\")\n",
    "print(f\"password = {data[\"password\"]}\")"
   ]
  },
  {
   "cell_type": "code",
   "execution_count": 24,
   "metadata": {},
   "outputs": [
    {
     "name": "stdout",
     "output_type": "stream",
     "text": [
      "{'action': 'marvel', 'romace': 'cinta fitri', 'keuangan': 'rich dad poor dad'}\n"
     ]
    }
   ],
   "source": [
    "data ={\n",
    "    \"action\" : \"marvel\",\n",
    "    \"romace\" : \"cinta fitri\"\n",
    "}\n",
    "\n",
    "kondisi1 = input(\"tambah / hapus :\")\n",
    "\n",
    "if kondisi1 == \"tambah\" :\n",
    "    kondisi2 = input(\"Masukan Jenis :\")\n",
    "    kondisi3 = input(\"Masukan Buku :\")\n",
    "    data.update({kondisi2 : kondisi3})\n",
    "    print(data)\n",
    "    \n",
    "elif kondisi1 == \"hapus\":\n",
    "    kondisi2 = input(\"Masukan Jenis :\")\n",
    "    kondisi3 = input(\"Masukan Buku :\")\n",
    "\n",
    "    del data[kondisi1]\n",
    "    print(data)"
   ]
  },
  {
   "cell_type": "markdown",
   "metadata": {},
   "source": [
    "dictionary funtion"
   ]
  },
  {
   "cell_type": "code",
   "execution_count": 25,
   "metadata": {},
   "outputs": [
    {
     "name": "stdout",
     "output_type": "stream",
     "text": [
      "{'action': 'marvel', 'romace': 'cinta fitri'}\n"
     ]
    }
   ],
   "source": [
    "#copy\n",
    "\n",
    "data={\n",
    "    \"action\" : \"marvel\",\n",
    "    \"romace\" : \"cinta fitri\"\n",
    "}\n",
    "\n",
    "data2 = data.copy()\n",
    "print(data2)"
   ]
  },
  {
   "cell_type": "code",
   "execution_count": 27,
   "metadata": {},
   "outputs": [
    {
     "name": "stdout",
     "output_type": "stream",
     "text": [
      "{}\n"
     ]
    }
   ],
   "source": [
    "# clear\n",
    "data={\n",
    "    \"action\" : \"marvel\",\n",
    "    \"romace\" : \"cinta fitri\"\n",
    "}\n",
    "\n",
    "data.clear()\n",
    "print(data)\n"
   ]
  },
  {
   "cell_type": "code",
   "execution_count": 28,
   "metadata": {},
   "outputs": [
    {
     "name": "stdout",
     "output_type": "stream",
     "text": [
      "{'Sapi': 'hewan', 'Ayam': 'hewan', 'Kambing': 'hewan'}\n"
     ]
    }
   ],
   "source": [
    "# fromkey\n",
    "\n",
    "nama_hewan = {\"Sapi\",\"Ayam\", \"Kambing\"}\n",
    "hewan = dict.fromkeys(nama_hewan,\"hewan\")\n",
    "print(hewan)"
   ]
  },
  {
   "cell_type": "code",
   "execution_count": 29,
   "metadata": {},
   "outputs": [
    {
     "name": "stdout",
     "output_type": "stream",
     "text": [
      "marvel\n"
     ]
    }
   ],
   "source": [
    "#get\n",
    "\n",
    "data={\n",
    "    \"action\" : \"marvel\",\n",
    "    \"romace\" : \"cinta fitri\"\n",
    "}\n",
    "action = data.get(\"action\")\n",
    "print(action)"
   ]
  },
  {
   "cell_type": "code",
   "execution_count": 31,
   "metadata": {},
   "outputs": [
    {
     "name": "stdout",
     "output_type": "stream",
     "text": [
      "dict_keys(['action', 'romace'])\n",
      "dict_values(['marvel', 'cinta fitri'])\n",
      "dict_items([('action', 'marvel'), ('romace', 'cinta fitri')])\n"
     ]
    }
   ],
   "source": [
    "# item, keys, value\n",
    "\n",
    "data={\n",
    "    \"action\" : \"marvel\",\n",
    "    \"romace\" : \"cinta fitri\"\n",
    "}\n",
    "\n",
    "print(data.keys())\n",
    "print(data.values())\n",
    "print(data.items())"
   ]
  },
  {
   "cell_type": "markdown",
   "metadata": {},
   "source": [
    "ASSIGNMENT"
   ]
  },
  {
   "cell_type": "code",
   "execution_count": 35,
   "metadata": {},
   "outputs": [
    {
     "name": "stdout",
     "output_type": "stream",
     "text": [
      "{'1': 'Ayam', '2': 'Sapi', '3': 'Mawar', '4': 'Kambing', '5': 'Lily'}\n",
      "{'1': 'Ayam', '2': 'Sapi', '4': 'Kambing', '5': 'Lily'}\n"
     ]
    }
   ],
   "source": [
    "data1 = {\n",
    "    \"1\" : \"Ayam\",\n",
    "    \"2\" : \"Sapi\",\n",
    "    \"3\" : \"Mawar\",\n",
    "    \"4\" : \"Kambing\",\n",
    "    \"5\" : \"Lily\"\n",
    "}\n",
    "\n",
    "data2 = data1.copy()\n",
    "print(data2)\n",
    "\n",
    "del data1[\"3\"]\n",
    "print(data1)"
   ]
  },
  {
   "cell_type": "code",
   "execution_count": 38,
   "metadata": {},
   "outputs": [
    {
     "name": "stdout",
     "output_type": "stream",
     "text": [
      "{'1': 'Hewan', '2': 'Sapi', '3': 'Hewan', '4': 'Kambing', '5': 'Hewan'}\n"
     ]
    }
   ],
   "source": [
    "data1 = {\n",
    "    \"1\" : \"Ayam\",\n",
    "    \"2\" : \"Sapi\",\n",
    "    \"3\" : \"Mawar\",\n",
    "    \"4\" : \"Kambing\",\n",
    "    \"5\" : \"Lily\"\n",
    "}\n",
    "\n",
    "for i in data1.keys() :\n",
    "    angka=int(i)\n",
    "    if angka %2 != 0 :\n",
    "        data1[i] = \"Hewan\"\n",
    "\n",
    "print(data1)"
   ]
  },
  {
   "cell_type": "code",
   "execution_count": null,
   "metadata": {},
   "outputs": [],
   "source": []
  }
 ],
 "metadata": {
  "kernelspec": {
   "display_name": "Python 3",
   "language": "python",
   "name": "python3"
  },
  "language_info": {
   "codemirror_mode": {
    "name": "ipython",
    "version": 3
   },
   "file_extension": ".py",
   "mimetype": "text/x-python",
   "name": "python",
   "nbconvert_exporter": "python",
   "pygments_lexer": "ipython3",
   "version": "3.13.0"
  }
 },
 "nbformat": 4,
 "nbformat_minor": 2
}
