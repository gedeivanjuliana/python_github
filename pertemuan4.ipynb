{
 "cells": [
  {
   "cell_type": "markdown",
   "metadata": {},
   "source": [
    "for loops"
   ]
  },
  {
   "cell_type": "code",
   "execution_count": 1,
   "metadata": {},
   "outputs": [
    {
     "name": "stdout",
     "output_type": "stream",
     "text": [
      "koding akademi\n",
      "koding akademi\n",
      "koding akademi\n"
     ]
    }
   ],
   "source": [
    "for i in range(3) :\n",
    "    print(f\"koding akademi\")"
   ]
  },
  {
   "cell_type": "code",
   "execution_count": 4,
   "metadata": {},
   "outputs": [
    {
     "name": "stdout",
     "output_type": "stream",
     "text": [
      "1\n",
      "koding akademi\n",
      "2\n",
      "koding akademi\n"
     ]
    }
   ],
   "source": [
    "for i in range(1, 3):# start, stop\n",
    "    print(i)\n",
    "    print(\"koding akademi\")"
   ]
  },
  {
   "cell_type": "code",
   "execution_count": 3,
   "metadata": {},
   "outputs": [
    {
     "name": "stdout",
     "output_type": "stream",
     "text": [
      "0\n",
      "koding akademi\n",
      "2\n",
      "koding akademi\n",
      "4\n",
      "koding akademi\n"
     ]
    }
   ],
   "source": [
    "for i in range(0, 5, 2):\n",
    "    print(i)\n",
    "    print(\"koding akademi\")"
   ]
  },
  {
   "cell_type": "markdown",
   "metadata": {},
   "source": [
    "while loops"
   ]
  },
  {
   "cell_type": "code",
   "execution_count": 5,
   "metadata": {},
   "outputs": [
    {
     "name": "stdout",
     "output_type": "stream",
     "text": [
      "putaran while\n"
     ]
    }
   ],
   "source": [
    "boolean = True\n",
    "\n",
    "while boolean == True:\n",
    "    print(\"putaran while\")\n",
    "    kondisi = False\n",
    "    boolean = kondisi"
   ]
  },
  {
   "cell_type": "code",
   "execution_count": 6,
   "metadata": {},
   "outputs": [],
   "source": [
    "nama = \"agung\"\n",
    "\n",
    "while nama == \"agung\" :\n",
    "    kondisi = input(\"Masukan Nama : \")\n",
    "    nama = kondisi"
   ]
  },
  {
   "cell_type": "code",
   "execution_count": 7,
   "metadata": {},
   "outputs": [
    {
     "name": "stdout",
     "output_type": "stream",
     "text": [
      "hello world\n"
     ]
    }
   ],
   "source": [
    "while True :\n",
    "    print(\"hello world\")\n",
    "    break"
   ]
  },
  {
   "cell_type": "code",
   "execution_count": 8,
   "metadata": {},
   "outputs": [
    {
     "name": "stdout",
     "output_type": "stream",
     "text": [
      "menu :\n",
      "1. tampil hello world\n",
      "2. keluar\n",
      "Keluar sistem\n"
     ]
    }
   ],
   "source": [
    "while True :\n",
    "    print(\"menu :\")\n",
    "    print(\"1. tampil hello world\")\n",
    "    print(\"2. keluar\")\n",
    "\n",
    "    kondisi = input(\" pilih menu :\")\n",
    "\n",
    "    if kondisi == \"1\" :\n",
    "        print(\"hello world\")\n",
    "    elif kondisi == \"2\" :\n",
    "        print(\"Keluar sistem\")\n",
    "        break"
   ]
  },
  {
   "cell_type": "markdown",
   "metadata": {},
   "source": [
    "for di dalam for"
   ]
  },
  {
   "cell_type": "code",
   "execution_count": 22,
   "metadata": {},
   "outputs": [
    {
     "name": "stdout",
     "output_type": "stream",
     "text": [
      "0\n",
      "koding akademi\n",
      "koding akademi\n",
      "koding akademi\n",
      "1\n",
      "koding akademi\n",
      "koding akademi\n",
      "koding akademi\n",
      "2\n",
      "koding akademi\n",
      "koding akademi\n",
      "koding akademi\n"
     ]
    }
   ],
   "source": [
    "for i in range(3):\n",
    "    print(i)\n",
    "    for z in range(3):\n",
    "        print(\"koding akademi\")"
   ]
  },
  {
   "cell_type": "markdown",
   "metadata": {},
   "source": [
    "assignment\n"
   ]
  },
  {
   "cell_type": "code",
   "execution_count": 9,
   "metadata": {},
   "outputs": [
    {
     "name": "stdout",
     "output_type": "stream",
     "text": [
      "1\n",
      "2\n",
      "3\n",
      "4\n",
      "5\n",
      "6\n",
      "7\n",
      "8\n",
      "9\n",
      "10\n"
     ]
    }
   ],
   "source": [
    "for i in range(1, 11):\n",
    "    print(i)"
   ]
  },
  {
   "cell_type": "code",
   "execution_count": 18,
   "metadata": {},
   "outputs": [
    {
     "name": "stdout",
     "output_type": "stream",
     "text": [
      "0\n",
      "1\n",
      "2\n",
      "3\n",
      "4\n",
      "5\n",
      "6\n",
      "7\n",
      "8\n",
      "9\n",
      "10\n",
      "Kamu Berhasil Memenangkan Permainan Ini\n"
     ]
    }
   ],
   "source": [
    "score = 0\n",
    "end_score = 10\n",
    "\n",
    "while score <= end_score :\n",
    "    print(score)\n",
    "    score += 1\n",
    "print(\"Kamu Berhasil Memenangkan Permainan Ini\")"
   ]
  },
  {
   "cell_type": "code",
   "execution_count": 20,
   "metadata": {},
   "outputs": [
    {
     "name": "stdout",
     "output_type": "stream",
     "text": [
      "220\n"
     ]
    }
   ],
   "source": [
    "angka = int(input(\"Masukan angka :\"))\n",
    "hasil = 0\n",
    "\n",
    "for i in range(angka, 31, 2):\n",
    "    hasil += i\n",
    "\n",
    "print(hasil)"
   ]
  },
  {
   "cell_type": "code",
   "execution_count": 21,
   "metadata": {},
   "outputs": [
    {
     "name": "stdout",
     "output_type": "stream",
     "text": [
      "3\n",
      "9\n",
      "3\n",
      "11\n",
      "12\n",
      "7.6\n"
     ]
    }
   ],
   "source": [
    "hasil = 0\n",
    "\n",
    "for i in range(5):\n",
    "    angka = int(input(\"Masukan angka :\"))\n",
    "    print(angka)\n",
    "    hasil += angka\n",
    "\n",
    "print(hasil/5)\n",
    "    "
   ]
  },
  {
   "cell_type": "code",
   "execution_count": 23,
   "metadata": {},
   "outputs": [
    {
     "name": "stdout",
     "output_type": "stream",
     "text": [
      "* * * * * \n",
      "* * * * * \n",
      "* * * * * \n",
      "* * * * * \n",
      "* * * * * \n"
     ]
    }
   ],
   "source": [
    "for i in range(5):\n",
    "    for z in range(5):\n",
    "        print(\"* \", end =\"\")\n",
    "    print(\"\")"
   ]
  },
  {
   "cell_type": "code",
   "execution_count": 24,
   "metadata": {},
   "outputs": [
    {
     "name": "stdout",
     "output_type": "stream",
     "text": [
      "* \n",
      "* * \n",
      "* * * \n",
      "* * * * \n",
      "* * * * * \n"
     ]
    }
   ],
   "source": [
    "for i in range(5):\n",
    "    for z in range(5):\n",
    "        if i >= z :\n",
    "            print(\"* \", end =\"\")\n",
    "    print(\"\")"
   ]
  },
  {
   "cell_type": "code",
   "execution_count": null,
   "metadata": {},
   "outputs": [],
   "source": []
  }
 ],
 "metadata": {
  "kernelspec": {
   "display_name": "Python 3",
   "language": "python",
   "name": "python3"
  },
  "language_info": {
   "codemirror_mode": {
    "name": "ipython",
    "version": 3
   },
   "file_extension": ".py",
   "mimetype": "text/x-python",
   "name": "python",
   "nbconvert_exporter": "python",
   "pygments_lexer": "ipython3",
   "version": "3.13.0"
  }
 },
 "nbformat": 4,
 "nbformat_minor": 2
}
