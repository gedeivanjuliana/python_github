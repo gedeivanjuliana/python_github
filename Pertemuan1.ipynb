{
 "cells": [
  {
   "cell_type": "markdown",
   "metadata": {},
   "source": [
    "ini hello world"
   ]
  },
  {
   "cell_type": "code",
   "execution_count": 2,
   "metadata": {},
   "outputs": [
    {
     "name": "stdout",
     "output_type": "stream",
     "text": [
      "hello world\n"
     ]
    }
   ],
   "source": [
    "print(\"hello world\")"
   ]
  },
  {
   "cell_type": "code",
   "execution_count": 3,
   "metadata": {},
   "outputs": [
    {
     "name": "stdout",
     "output_type": "stream",
     "text": [
      "hello world\n"
     ]
    }
   ],
   "source": [
    "print(\"hello world\")"
   ]
  },
  {
   "cell_type": "markdown",
   "metadata": {},
   "source": [
    "variable"
   ]
  },
  {
   "cell_type": "code",
   "execution_count": 4,
   "metadata": {},
   "outputs": [
    {
     "name": "stdout",
     "output_type": "stream",
     "text": [
      "ivan\n",
      "20\n",
      "angka 30\n",
      "nama satu\n",
      "nama dua\n"
     ]
    }
   ],
   "source": [
    "nama = \"ivan\"\n",
    "angka = 20\n",
    "huruf = \"angka 30\"\n",
    "nama_satu = \"nama satu\"\n",
    "namaDua = \"nama dua\"\n",
    "\n",
    "print (nama)\n",
    "print (angka)\n",
    "print (huruf)\n",
    "print (nama_satu)\n",
    "print (namaDua)"
   ]
  },
  {
   "cell_type": "markdown",
   "metadata": {},
   "source": [
    "del"
   ]
  },
  {
   "cell_type": "code",
   "execution_count": 5,
   "metadata": {},
   "outputs": [
    {
     "ename": "NameError",
     "evalue": "name 'nama' is not defined",
     "output_type": "error",
     "traceback": [
      "\u001b[1;31m---------------------------------------------------------------------------\u001b[0m",
      "\u001b[1;31mNameError\u001b[0m                                 Traceback (most recent call last)",
      "Cell \u001b[1;32mIn[5], line 3\u001b[0m\n\u001b[0;32m      1\u001b[0m nama \u001b[38;5;241m=\u001b[39m \u001b[38;5;124m\"\u001b[39m\u001b[38;5;124mivan\u001b[39m\u001b[38;5;124m\"\u001b[39m\n\u001b[0;32m      2\u001b[0m \u001b[38;5;28;01mdel\u001b[39;00m nama \u001b[38;5;66;03m# menghapus variable nama\u001b[39;00m\n\u001b[1;32m----> 3\u001b[0m \u001b[38;5;28mprint\u001b[39m (\u001b[43mnama\u001b[49m)\n",
      "\u001b[1;31mNameError\u001b[0m: name 'nama' is not defined"
     ]
    }
   ],
   "source": [
    "nama = \"ivan\"\n",
    "del nama # menghapus variable nama\n",
    "print (nama)"
   ]
  },
  {
   "cell_type": "markdown",
   "metadata": {},
   "source": [
    "tipe data"
   ]
  },
  {
   "cell_type": "code",
   "execution_count": 16,
   "metadata": {},
   "outputs": [
    {
     "name": "stdout",
     "output_type": "stream",
     "text": [
      "Tipe data : \n",
      "ivan\n",
      "c\n",
      "10\n",
      "10.5\n",
      "True\n",
      "False\n"
     ]
    }
   ],
   "source": [
    "nama = \"ivan\" # tipe data string\n",
    "huruf = 'c' # char / bisa menyimpan satu karakter\n",
    "angka = 10 # tipe data int / integer (bilangan bulat)\n",
    "koma = 10.5 # tipe data float (bilangan koma)\n",
    "kondisi1 = True # tipe data boolean\n",
    "kondisi2 = False # tipe data boolean\n",
    "\n",
    "print(\"Tipe data : \")\n",
    "print(nama)\n",
    "print(huruf)\n",
    "print(angka)\n",
    "print(koma)\n",
    "print(kondisi1)\n",
    "print(kondisi2)"
   ]
  },
  {
   "cell_type": "code",
   "execution_count": 17,
   "metadata": {},
   "outputs": [
    {
     "name": "stdout",
     "output_type": "stream",
     "text": [
      "<class 'str'>\n",
      "<class 'str'>\n",
      "<class 'int'>\n",
      "<class 'float'>\n",
      "<class 'bool'>\n"
     ]
    }
   ],
   "source": [
    "print(type(nama))\n",
    "print(type(huruf))\n",
    "print(type(angka))\n",
    "print(type(koma))\n",
    "print(type(kondisi1))"
   ]
  },
  {
   "cell_type": "markdown",
   "metadata": {},
   "source": [
    "konversi"
   ]
  },
  {
   "cell_type": "code",
   "execution_count": 7,
   "metadata": {},
   "outputs": [
    {
     "name": "stdout",
     "output_type": "stream",
     "text": [
      "10\n",
      "100\n",
      "<class 'int'>\n"
     ]
    }
   ],
   "source": [
    "angka_int = 10\n",
    "print(angka_int)\n",
    "\n",
    "angka_str=\"100\"\n",
    "print(angka_str)\n",
    "\n",
    "angka_baru=int(angka_str)\n",
    "print(type(angka_baru))"
   ]
  },
  {
   "cell_type": "markdown",
   "metadata": {},
   "source": [
    "assigment"
   ]
  },
  {
   "cell_type": "code",
   "execution_count": 8,
   "metadata": {},
   "outputs": [
    {
     "name": "stdout",
     "output_type": "stream",
     "text": [
      "Semi\n"
     ]
    }
   ],
   "source": [
    "musim = \"Semi\"\n",
    "print(musim)\n",
    "\n"
   ]
  },
  {
   "cell_type": "code",
   "execution_count": 18,
   "metadata": {},
   "outputs": [
    {
     "name": "stdout",
     "output_type": "stream",
     "text": [
      "Type : 10\n",
      "Type Float : 0.5\n",
      "Type Char : K\n",
      "Type String : Koding Akademi\n",
      "Type Boolean : True\n"
     ]
    }
   ],
   "source": [
    "angka_int = 10\n",
    "angka_float=0.5\n",
    "type_char = 'K'\n",
    "type_sting = \"Koding Akademi\"\n",
    "type_bool = True\n",
    "\n",
    "print(\"Type :\",angka_int)\n",
    "print(\"Type Float :\", angka_float)\n",
    "print(\"Type Char :\", type_char)\n",
    "print(\"Type String :\", type_sting)\n",
    "print(\"Type Boolean :\", type_bool)"
   ]
  },
  {
   "cell_type": "code",
   "execution_count": 19,
   "metadata": {},
   "outputs": [
    {
     "name": "stdout",
     "output_type": "stream",
     "text": [
      "45.0\n",
      "0.667\n",
      "0xc\n",
      "199\n",
      "<class 'float'>\n"
     ]
    }
   ],
   "source": [
    "angka1_int = 45\n",
    "\n",
    "angka1_float = float(angka1_int)\n",
    "print(angka1_float)\n",
    "\n",
    "angka2_float = 0.667\n",
    "angka2_int = int(angka2_float)\n",
    "print(angka2_float)\n",
    "\n",
    "angka3_int=12\n",
    "angka_hex=hex(angka3_int)\n",
    "print(angka_hex)\n",
    "\n",
    "angka4_int=199\n",
    "angka1_string=str(angka4_int)\n",
    "print(angka1_string)\n",
    "\n",
    "print(type(angka1_float))"
   ]
  },
  {
   "cell_type": "code",
   "execution_count": null,
   "metadata": {},
   "outputs": [],
   "source": []
  }
 ],
 "metadata": {
  "kernelspec": {
   "display_name": "Python 3",
   "language": "python",
   "name": "python3"
  },
  "language_info": {
   "codemirror_mode": {
    "name": "ipython",
    "version": 3
   },
   "file_extension": ".py",
   "mimetype": "text/x-python",
   "name": "python",
   "nbconvert_exporter": "python",
   "pygments_lexer": "ipython3",
   "version": "3.13.0"
  }
 },
 "nbformat": 4,
 "nbformat_minor": 2
}
