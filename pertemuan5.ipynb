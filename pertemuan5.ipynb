{
 "cells": [
  {
   "cell_type": "markdown",
   "metadata": {},
   "source": [
    "List"
   ]
  },
  {
   "cell_type": "code",
   "execution_count": 4,
   "metadata": {},
   "outputs": [
    {
     "name": "stdout",
     "output_type": "stream",
     "text": [
      "['denpasar', 'tabanan', 'gianyar']\n",
      "denpasar\n",
      "tabanan\n",
      "gianyar\n",
      "['1', '2', '3']\n",
      "['satu']\n"
     ]
    }
   ],
   "source": [
    "kota = [\"denpasar\", \"tabanan\", \"gianyar\"]\n",
    "data2 = list(\"123\")\n",
    "data3 = list([\"satu\"])\n",
    "\n",
    "print(kota)\n",
    "print(kota[0])\n",
    "print(kota[1])\n",
    "print(kota[2])\n",
    "print(data2)\n",
    "print(data3)"
   ]
  },
  {
   "cell_type": "code",
   "execution_count": 2,
   "metadata": {},
   "outputs": [
    {
     "name": "stdout",
     "output_type": "stream",
     "text": [
      "denpasar\n",
      "tabanan\n",
      "gianyar\n"
     ]
    }
   ],
   "source": [
    "for i in range(3) :\n",
    "    print(kota[i])"
   ]
  },
  {
   "cell_type": "code",
   "execution_count": 3,
   "metadata": {},
   "outputs": [
    {
     "name": "stdout",
     "output_type": "stream",
     "text": [
      "denpasar\n",
      "tabanan\n",
      "gianyar\n"
     ]
    }
   ],
   "source": [
    "for i in kota :\n",
    "    print(i)"
   ]
  },
  {
   "cell_type": "markdown",
   "metadata": {},
   "source": []
  },
  {
   "cell_type": "code",
   "execution_count": 7,
   "metadata": {},
   "outputs": [
    {
     "name": "stdout",
     "output_type": "stream",
     "text": [
      "1\n",
      "2\n",
      "3\n",
      "[1.0, 2.0, 3.0]\n",
      "['1', '2', '3', '4']\n"
     ]
    }
   ],
   "source": [
    "a,b,c = map(int, [1,2,3])\n",
    "\n",
    "print(a)\n",
    "print(b)\n",
    "print(c)\n",
    "\n",
    "data = list(map(float, [1,2,3]))\n",
    "print(data)\n",
    "\n",
    "test = input(\"masukan nama :\").split()\n",
    "print(test)"
   ]
  },
  {
   "cell_type": "code",
   "execution_count": 9,
   "metadata": {},
   "outputs": [
    {
     "name": "stdout",
     "output_type": "stream",
     "text": [
      "[1.0, 2.0, 3.0, 4.0]\n"
     ]
    }
   ],
   "source": [
    "test2 = list(map(float, input(\"masukan angka :\").split()))\n",
    "print(test2)"
   ]
  },
  {
   "cell_type": "markdown",
   "metadata": {},
   "source": [
    "slice"
   ]
  },
  {
   "cell_type": "code",
   "execution_count": 16,
   "metadata": {},
   "outputs": [
    {
     "name": "stdout",
     "output_type": "stream",
     "text": [
      "[10, 20, 30]\n",
      "[10, 30]\n",
      "50\n",
      "[10, 20, 30, 40]\n",
      "[10, 20, 30, 40, 50]\n",
      "[10, 30]\n",
      "[50, 40, 30, 20, 10]\n"
     ]
    }
   ],
   "source": [
    "data = [10,20,30,40,50]\n",
    "\n",
    "print(data[0 : 3]) # [awal, batas]\n",
    "print(data[0 : 4 :2]) # [awal, batas, langkah]\n",
    "print(data[-1])\n",
    "print(data[-5 : -1]) #[awal, batas]\n",
    "print(data[-5: ]) #[awal : sampai habis]\n",
    "print(data[-5 : -1 : 2]) #[awal, batas, langkah]\n",
    "print(data[::-1])"
   ]
  },
  {
   "cell_type": "code",
   "execution_count": 17,
   "metadata": {},
   "outputs": [
    {
     "name": "stdout",
     "output_type": "stream",
     "text": [
      "['badung', 'tabanan', 'gianyar']\n"
     ]
    }
   ],
   "source": [
    "kota = [\"denpasar\", \"tabanan\", \"gianyar\"]\n",
    "\n",
    "kota[0] = \"badung\"\n",
    "\n",
    "print(kota)"
   ]
  },
  {
   "cell_type": "code",
   "execution_count": 18,
   "metadata": {},
   "outputs": [
    {
     "name": "stdout",
     "output_type": "stream",
     "text": [
      "['denpasar', 'tabanan', 'gianyar', 'negara']\n"
     ]
    }
   ],
   "source": [
    "kota = [\"denpasar\", \"tabanan\", \"gianyar\"]\n",
    "kota.append(\"negara\")\n",
    "print(kota)"
   ]
  },
  {
   "cell_type": "code",
   "execution_count": 19,
   "metadata": {},
   "outputs": [
    {
     "name": "stdout",
     "output_type": "stream",
     "text": [
      "['negara', 'denpasar', 'tabanan', 'gianyar']\n"
     ]
    }
   ],
   "source": [
    "kota = [\"denpasar\", \"tabanan\", \"gianyar\"]\n",
    "kota.insert(0, \"negara\")\n",
    "print(kota)"
   ]
  },
  {
   "cell_type": "code",
   "execution_count": 22,
   "metadata": {},
   "outputs": [
    {
     "name": "stdout",
     "output_type": "stream",
     "text": [
      "['tabanan', 'gianyar']\n",
      "[]\n"
     ]
    }
   ],
   "source": [
    "kota = [\"denpasar\", \"tabanan\", \"gianyar\"]\n",
    "del kota[0]\n",
    "print(kota)\n"
   ]
  },
  {
   "cell_type": "code",
   "execution_count": 23,
   "metadata": {},
   "outputs": [
    {
     "name": "stdout",
     "output_type": "stream",
     "text": [
      "['tabanan', 'gianyar']\n",
      "denpasar\n",
      "[]\n"
     ]
    }
   ],
   "source": [
    "kota = [\"denpasar\", \"tabanan\", \"gianyar\"]\n",
    "hapus = kota.pop(0)\n",
    "print(kota)\n",
    "print(hapus)\n",
    "\n",
    "kota.clear()\n",
    "print(kota)"
   ]
  },
  {
   "cell_type": "code",
   "execution_count": 25,
   "metadata": {},
   "outputs": [
    {
     "name": "stdout",
     "output_type": "stream",
     "text": [
      "[7, 8, 9]\n",
      "7\n"
     ]
    }
   ],
   "source": [
    "data =[\n",
    "    [1,2,3],\n",
    "    [4,5,6],\n",
    "    [7,8,9]\n",
    "]\n",
    "\n",
    "print(data[2])\n",
    "print(data[2][0])"
   ]
  },
  {
   "cell_type": "code",
   "execution_count": 26,
   "metadata": {},
   "outputs": [
    {
     "name": "stdout",
     "output_type": "stream",
     "text": [
      "[0, 1, 2, 3, 4]\n"
     ]
    }
   ],
   "source": [
    "data = [i * 1 for i in range(5)]\n",
    "print(data)"
   ]
  },
  {
   "cell_type": "code",
   "execution_count": 28,
   "metadata": {},
   "outputs": [
    {
     "name": "stdout",
     "output_type": "stream",
     "text": [
      "agun\n"
     ]
    }
   ],
   "source": [
    "nama = \"agung\"\n",
    "print(nama[0 : 4])"
   ]
  },
  {
   "cell_type": "code",
   "execution_count": 27,
   "metadata": {},
   "outputs": [
    {
     "name": "stdout",
     "output_type": "stream",
     "text": [
      "False\n"
     ]
    }
   ],
   "source": [
    "kosong = [\"kosong\"]\n",
    "data = [True, False]\n",
    "kode_pos = [1, 2, 3, 4, 5]\n",
    "warna = [\"merah\", \"hijau\",\"biru\"]\n",
    "cek = len(warna)\n",
    "\n",
    "if cek > 10 :\n",
    "    print(True)\n",
    "else :\n",
    "    print(False)"
   ]
  },
  {
   "cell_type": "code",
   "execution_count": 32,
   "metadata": {},
   "outputs": [
    {
     "name": "stdout",
     "output_type": "stream",
     "text": [
      "koding akademi\n",
      "welcome\n",
      "imedaka gnidok ot emoclew\n"
     ]
    }
   ],
   "source": [
    "mystr = \"welcome to koding akademi\"\n",
    "print(mystr[11 :])\n",
    "print(mystr[0:7])\n",
    "print(mystr[::-1])"
   ]
  },
  {
   "cell_type": "code",
   "execution_count": null,
   "metadata": {},
   "outputs": [],
   "source": []
  }
 ],
 "metadata": {
  "kernelspec": {
   "display_name": "Python 3",
   "language": "python",
   "name": "python3"
  },
  "language_info": {
   "codemirror_mode": {
    "name": "ipython",
    "version": 3
   },
   "file_extension": ".py",
   "mimetype": "text/x-python",
   "name": "python",
   "nbconvert_exporter": "python",
   "pygments_lexer": "ipython3",
   "version": "3.13.0"
  }
 },
 "nbformat": 4,
 "nbformat_minor": 2
}
