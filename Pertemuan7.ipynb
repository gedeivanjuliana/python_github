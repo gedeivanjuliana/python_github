{
 "cells": [
  {
   "cell_type": "markdown",
   "metadata": {},
   "source": [
    "funtion"
   ]
  },
  {
   "cell_type": "code",
   "execution_count": 1,
   "metadata": {},
   "outputs": [
    {
     "name": "stdout",
     "output_type": "stream",
     "text": [
      "50\n"
     ]
    }
   ],
   "source": [
    "def tambah(): #function void\n",
    "    a=20\n",
    "    b=30\n",
    "    print(a+b)\n",
    "\n",
    "tambah()"
   ]
  },
  {
   "cell_type": "code",
   "execution_count": 3,
   "metadata": {},
   "outputs": [
    {
     "name": "stdout",
     "output_type": "stream",
     "text": [
      "50\n"
     ]
    }
   ],
   "source": [
    "def persegi_panjang(a,b): # funcion parameter\n",
    "    hasil = a+b\n",
    "    print(hasil)\n",
    "\n",
    "persegi_panjang(20,30)"
   ]
  },
  {
   "cell_type": "code",
   "execution_count": null,
   "metadata": {},
   "outputs": [],
   "source": []
  },
  {
   "cell_type": "code",
   "execution_count": 4,
   "metadata": {},
   "outputs": [
    {
     "name": "stdout",
     "output_type": "stream",
     "text": [
      "5600\n",
      "10600\n"
     ]
    }
   ],
   "source": [
    "def kali(a,b) : # function return\n",
    "    hasil = a*b\n",
    "    return hasil\n",
    "\n",
    "total1 = kali(20,30) + 5000\n",
    "print(total1)\n",
    "total2 = kali(20,30) + 10000\n",
    "print(total2)"
   ]
  },
  {
   "cell_type": "code",
   "execution_count": 5,
   "metadata": {},
   "outputs": [
    {
     "name": "stdout",
     "output_type": "stream",
     "text": [
      "102\n"
     ]
    }
   ],
   "source": [
    "angka = 100\n",
    "\n",
    "def tambah():\n",
    "    global angka\n",
    "    angka += 2\n",
    "    print(angka)\n",
    "\n",
    "tambah()"
   ]
  },
  {
   "cell_type": "code",
   "execution_count": 6,
   "metadata": {},
   "outputs": [
    {
     "name": "stdout",
     "output_type": "stream",
     "text": [
      "True\n",
      "10 adalah angka\n",
      "halo adalah bukan angka\n",
      "30 adalah angka\n",
      "10.2 adalah angka\n"
     ]
    }
   ],
   "source": [
    "test = \"halo\"\n",
    "print(isinstance(test,str))\n",
    "\n",
    "data = [10,\"halo\",30,10.20]\n",
    "\n",
    "for i in data :\n",
    "    if isinstance(i, (int, float)) :\n",
    "        print(f\"{i} adalah angka\")\n",
    "    else :\n",
    "        print(f\"{i} adalah bukan angka\")\n",
    "        "
   ]
  },
  {
   "cell_type": "code",
   "execution_count": 7,
   "metadata": {},
   "outputs": [
    {
     "name": "stdout",
     "output_type": "stream",
     "text": [
      "[2, 4, 6, 8]\n"
     ]
    }
   ],
   "source": [
    "def kali(x):\n",
    "    return x * 2\n",
    "\n",
    "hasil = list(map(kali, [1,2,3,4]))\n",
    "print(hasil)"
   ]
  },
  {
   "cell_type": "code",
   "execution_count": 8,
   "metadata": {},
   "outputs": [
    {
     "name": "stdout",
     "output_type": "stream",
     "text": [
      "ada kesalahan\n"
     ]
    }
   ],
   "source": [
    "try :\n",
    "    num1=int(input(\"masukan angka :\"))\n",
    "    print(num1)\n",
    "except ValueError:\n",
    "    print(\"ada kesalahan\")"
   ]
  },
  {
   "cell_type": "markdown",
   "metadata": {},
   "source": [
    "function recursive"
   ]
  },
  {
   "cell_type": "code",
   "execution_count": 15,
   "metadata": {},
   "outputs": [
    {
     "name": "stdout",
     "output_type": "stream",
     "text": [
      "Nilai Faktorial = 120\n"
     ]
    }
   ],
   "source": [
    "def faktorial(n):\n",
    "    if n == 0 :\n",
    "        return 1\n",
    "    else :\n",
    "        return n * faktorial(n-1)\n",
    "    \n",
    "nilai_faktorial = faktorial(5)\n",
    "print(\"Nilai Faktorial =\", nilai_faktorial)"
   ]
  },
  {
   "cell_type": "markdown",
   "metadata": {},
   "source": [
    "function args kwargs"
   ]
  },
  {
   "cell_type": "code",
   "execution_count": 27,
   "metadata": {},
   "outputs": [
    {
     "name": "stdout",
     "output_type": "stream",
     "text": [
      "('agung', 'wahyu', 'fitri')\n",
      "agung\n"
     ]
    }
   ],
   "source": [
    "def tampil(*a) : #args\n",
    "    print(a)\n",
    "    print(a[0])\n",
    "\n",
    "tampil(\"agung\", \"wahyu\", \"fitri\")"
   ]
  },
  {
   "cell_type": "code",
   "execution_count": null,
   "metadata": {},
   "outputs": [],
   "source": []
  },
  {
   "cell_type": "code",
   "execution_count": 28,
   "metadata": {},
   "outputs": [
    {
     "name": "stdout",
     "output_type": "stream",
     "text": [
      "{'nama': 'agung', 'alamat': 'denpasar'}\n",
      "agung\n",
      "denpasar\n"
     ]
    }
   ],
   "source": [
    "def tampil2(**a) :\n",
    "    print(a)\n",
    "    print(a[\"nama\"])\n",
    "    print(a[\"alamat\"])\n",
    "\n",
    "tampil2(nama = \"agung\", alamat = \"denpasar\")"
   ]
  },
  {
   "cell_type": "markdown",
   "metadata": {},
   "source": [
    "assigment"
   ]
  },
  {
   "cell_type": "code",
   "execution_count": 12,
   "metadata": {},
   "outputs": [
    {
     "name": "stdout",
     "output_type": "stream",
     "text": [
      "1. penjumlahan\n",
      "2. pengurangan\n",
      "3. perkalian\n",
      "4. pembagian\n",
      "20\n"
     ]
    }
   ],
   "source": [
    "def penjumlahan():\n",
    "    angka1= int(input(\"masukan angka 1 : \"))\n",
    "    angka2= int(input(\"masukan angka 1 : \"))\n",
    "    hasil = angka1 + angka2\n",
    "    print(hasil)\n",
    "\n",
    "def pengurangan():\n",
    "    angka1= int(input(\"masukan angka 1 : \"))\n",
    "    angka2= int(input(\"masukan angka 1 : \"))\n",
    "    hasil = angka1 - angka2\n",
    "    print(hasil)\n",
    "\n",
    "def perkalian():\n",
    "    angka1= int(input(\"masukan angka 1 : \"))\n",
    "    angka2= int(input(\"masukan angka 1 : \"))\n",
    "    hasil = angka1 * angka2\n",
    "    print(hasil)\n",
    "\n",
    "def pembagian():\n",
    "    angka1= int(input(\"masukan angka 1 : \"))\n",
    "    angka2= int(input(\"masukan angka 1 : \"))\n",
    "    hasil = angka1 % angka2\n",
    "    print(hasil)\n",
    "\n",
    "\n",
    "\n",
    "while True :\n",
    "    print(\"1. penjumlahan\")\n",
    "    print(\"2. pengurangan\")\n",
    "    print(\"3. perkalian\")\n",
    "    print(\"4. pembagian\")\n",
    "\n",
    "    pilihan=int(input(\"Masukan Pilihan \"))\n",
    "\n",
    "    if pilihan ==1 :\n",
    "        penjumlahan()\n",
    "    elif pilihan ==2 :\n",
    "        pengurangan()\n",
    "    elif pilihan ==3 :\n",
    "        perkalian()\n",
    "    elif pilihan ==1 :\n",
    "        pembagian()\n",
    "    \n",
    "    kondisi = input (\"masih ingin Memilih ?\")\n",
    "\n",
    "    if kondisi == \"tidak\" :\n",
    "        break"
   ]
  },
  {
   "cell_type": "code",
   "execution_count": 21,
   "metadata": {},
   "outputs": [
    {
     "name": "stdout",
     "output_type": "stream",
     "text": [
      "1. penjumlahan\n",
      "2. pengurangan\n",
      "3. perkalian\n",
      "4. pembagian\n",
      "5.0\n"
     ]
    }
   ],
   "source": [
    "def penjumlahan(a,b):\n",
    "    hasil = a + b\n",
    "    return hasil\n",
    "    \n",
    "\n",
    "def pengurangan(a,b):\n",
    "    hasil=a - b\n",
    "    return hasil\n",
    "\n",
    "def perkalian(a,b):\n",
    "    hasil=a * b\n",
    "    return hasil\n",
    "\n",
    "def pembagian(a,b):\n",
    "    hasil=a / b\n",
    "    return hasil\n",
    "\n",
    "\n",
    "\n",
    "while True :\n",
    "    print(\"1. penjumlahan\")\n",
    "    print(\"2. pengurangan\")\n",
    "    print(\"3. perkalian\")\n",
    "    print(\"4. pembagian\")\n",
    "\n",
    "    pilihan=int(input(\"Masukan Pilihan \"))\n",
    "\n",
    "    if pilihan ==1 :\n",
    "        angka1= int(input(\"masukan angka 1 : \"))\n",
    "        angka2= int(input(\"masukan angka 1 : \"))\n",
    "        jumlah = penjumlahan(angka1, angka2)\n",
    "        print(jumlah)\n",
    "    elif pilihan ==2 :\n",
    "        angka1= int(input(\"masukan angka 1 : \"))\n",
    "        angka2= int(input(\"masukan angka 1 : \"))\n",
    "        jumlah = pengurangan(angka1, angka2)\n",
    "        print(jumlah)\n",
    "    elif pilihan ==3 :\n",
    "        angka1= int(input(\"masukan angka 1 : \"))\n",
    "        angka2= int(input(\"masukan angka 1 : \"))\n",
    "        jumlah = perkalian(angka1, angka2)\n",
    "        print(jumlah)\n",
    "    elif pilihan ==4 :\n",
    "        angka1= int(input(\"masukan angka 1 : \"))\n",
    "        angka2= int(input(\"masukan angka 1 : \"))\n",
    "        jumlah = pembagian(angka1, angka2)\n",
    "        print(jumlah)\n",
    "    \n",
    "    kondisi = input (\"masih ingin Memilih ?\")\n",
    "\n",
    "    if kondisi == \"tidak\" :\n",
    "        break"
   ]
  },
  {
   "cell_type": "code",
   "execution_count": 22,
   "metadata": {},
   "outputs": [
    {
     "name": "stdout",
     "output_type": "stream",
     "text": [
      "100\n",
      "10\n"
     ]
    }
   ],
   "source": [
    "angka = [100, 20, 10,50,80]\n",
    "print(max(angka))\n",
    "print(min(angka))"
   ]
  },
  {
   "cell_type": "code",
   "execution_count": 25,
   "metadata": {},
   "outputs": [
    {
     "name": "stdout",
     "output_type": "stream",
     "text": [
      "100\n",
      "10\n"
     ]
    }
   ],
   "source": [
    "angka = [100, 20, 10,50,80]\n",
    "\n",
    "terbesar = angka[0]\n",
    "terkecil = angka[0]\n",
    "\n",
    "for i in range(len(angka)) :\n",
    "    if angka [i]>terbesar:\n",
    "        terbesar = angka [i]\n",
    "\n",
    "    if angka [i]<terkecil:\n",
    "        terkecil = angka [i]\n",
    "\n",
    "print(terbesar)\n",
    "print(terkecil)\n"
   ]
  },
  {
   "cell_type": "code",
   "execution_count": null,
   "metadata": {},
   "outputs": [],
   "source": []
  }
 ],
 "metadata": {
  "kernelspec": {
   "display_name": "Python 3",
   "language": "python",
   "name": "python3"
  },
  "language_info": {
   "codemirror_mode": {
    "name": "ipython",
    "version": 3
   },
   "file_extension": ".py",
   "mimetype": "text/x-python",
   "name": "python",
   "nbconvert_exporter": "python",
   "pygments_lexer": "ipython3",
   "version": "3.13.0"
  }
 },
 "nbformat": 4,
 "nbformat_minor": 2
}
