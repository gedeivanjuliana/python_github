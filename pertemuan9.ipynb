{
 "cells": [
  {
   "cell_type": "code",
   "execution_count": 1,
   "metadata": {},
   "outputs": [
    {
     "name": "stdout",
     "output_type": "stream",
     "text": [
      "10\n",
      "[10 20 30]\n"
     ]
    }
   ],
   "source": [
    "import numpy as np\n",
    "\n",
    "a= np.array([10,20,30,40])\n",
    "\n",
    "print(a[0])\n",
    "print(a[0 : 3]) # [start : batas]"
   ]
  },
  {
   "cell_type": "code",
   "execution_count": 4,
   "metadata": {},
   "outputs": [
    {
     "name": "stdout",
     "output_type": "stream",
     "text": [
      "20\n",
      "[[10 20]\n",
      " [40 50]\n",
      " [70 80]]\n"
     ]
    }
   ],
   "source": [
    "b = np.array([\n",
    "    [10,20,30],\n",
    "    [40,50,60],\n",
    "    [70,80,90]\n",
    "])\n",
    "\n",
    "print(b[0][1])\n",
    "print(b[0:, 0:2]) # [baris, kolom]"
   ]
  },
  {
   "cell_type": "code",
   "execution_count": 5,
   "metadata": {},
   "outputs": [
    {
     "name": "stdout",
     "output_type": "stream",
     "text": [
      "[[ 100  200  300]\n",
      " [  40 1000   60]\n",
      " [  70   80   90]]\n"
     ]
    }
   ],
   "source": [
    "b = np.array([\n",
    "    [10,20,30],\n",
    "    [40,50,60],\n",
    "    [70,80,90]\n",
    "])\n",
    "\n",
    "b[0] = [100,200,300]\n",
    "b[1][1]=1000\n",
    "print(b)"
   ]
  },
  {
   "cell_type": "markdown",
   "metadata": {},
   "source": []
  },
  {
   "cell_type": "markdown",
   "metadata": {},
   "source": [
    "ASSIGNMENT"
   ]
  },
  {
   "cell_type": "code",
   "execution_count": 7,
   "metadata": {},
   "outputs": [
    {
     "name": "stdout",
     "output_type": "stream",
     "text": [
      "['Denis' 'Scratch' '8']\n",
      "['Frank' 'Python' '18']\n",
      "['Roger' 'Unity' '15']\n"
     ]
    }
   ],
   "source": [
    "c= np.array([\n",
    "    [\"Denis\", \"Scratch\",8],\n",
    "    [\"Frank\",\"Python\", 18],\n",
    "    [\"Roger\", \"Unity\", 15]\n",
    "])\n",
    "\n",
    "print(c[0])\n",
    "print(c[1])\n",
    "print(c[2])\n"
   ]
  },
  {
   "cell_type": "code",
   "execution_count": 8,
   "metadata": {},
   "outputs": [
    {
     "name": "stdout",
     "output_type": "stream",
     "text": [
      "[['Denis' 'Scratch']\n",
      " ['Frank' 'Python']\n",
      " ['Roger' 'Unity']]\n"
     ]
    }
   ],
   "source": [
    "c= np.array([\n",
    "    [\"Denis\", \"Scratch\",8],\n",
    "    [\"Frank\",\"Python\", 18],\n",
    "    [\"Roger\", \"Unity\", 15]\n",
    "])\n",
    "print(c[0:, 0:2])"
   ]
  },
  {
   "cell_type": "code",
   "execution_count": 9,
   "metadata": {},
   "outputs": [
    {
     "name": "stdout",
     "output_type": "stream",
     "text": [
      "[['Denis' 'Roblox' '8']\n",
      " ['Frank' 'Python' '18']\n",
      " ['Roger' 'Unity' '15']]\n"
     ]
    }
   ],
   "source": [
    "c= np.array([\n",
    "    [\"Denis\", \"Scratch\",8],\n",
    "    [\"Frank\",\"Python\", 18],\n",
    "    [\"Roger\", \"Unity\", 15]\n",
    "])\n",
    "\n",
    "c [0][1] = \"Roblox\"\n",
    "print(c)"
   ]
  },
  {
   "cell_type": "code",
   "execution_count": 10,
   "metadata": {},
   "outputs": [
    {
     "name": "stdout",
     "output_type": "stream",
     "text": [
      "['Java' 'Richie' '60' 'C']\n",
      "['Python' 'Niels' '80' 'A']\n",
      "['R' 'Brie' '75' 'B']\n"
     ]
    }
   ],
   "source": [
    "d = np.array([\n",
    "    [\"Java\",\"Richie\",60,'C'],\n",
    "    [\"Python\",\"Niels\",80,'A'],\n",
    "    ['R', \"Brie\",75,'B']\n",
    "])\n",
    "\n",
    "print(d[0])\n",
    "print(d[1])\n",
    "print(d[2])"
   ]
  },
  {
   "cell_type": "code",
   "execution_count": 12,
   "metadata": {},
   "outputs": [
    {
     "name": "stdout",
     "output_type": "stream",
     "text": [
      "[['Java']\n",
      " ['Python']\n",
      " ['R']]\n",
      "[['Richie']\n",
      " ['Niels']\n",
      " ['Brie']]\n",
      "[['60']\n",
      " ['80']\n",
      " ['75']]\n",
      "[['C']\n",
      " ['A']\n",
      " ['B']]\n"
     ]
    }
   ],
   "source": [
    "d = np.array([\n",
    "    [\"Java\",\"Richie\",60,'C'],\n",
    "    [\"Python\",\"Niels\",80,'A'],\n",
    "    ['R', \"Brie\",75,'B']\n",
    "])\n",
    "\n",
    "print(d[0:,0:1])\n",
    "print(d[0:,1:2])\n",
    "print(d[0:,2:3])\n",
    "print(d[0:,3:4])\n"
   ]
  },
  {
   "cell_type": "code",
   "execution_count": 13,
   "metadata": {},
   "outputs": [
    {
     "name": "stdout",
     "output_type": "stream",
     "text": [
      "[['Java' 'Richie' '60' 'C']\n",
      " ['Python' 'Niels' '80' 'A']]\n",
      "[['60' 'C']\n",
      " ['80' 'A']\n",
      " ['75' 'B']]\n"
     ]
    }
   ],
   "source": [
    "d = np.array([\n",
    "    [\"Java\",\"Richie\",60,'C'],\n",
    "    [\"Python\",\"Niels\",80,'A'],\n",
    "    ['R', \"Brie\",75,'B']\n",
    "])\n",
    "\n",
    "print(d[0:2])\n",
    "print(d[0:,2:4])"
   ]
  },
  {
   "cell_type": "code",
   "execution_count": 15,
   "metadata": {},
   "outputs": [
    {
     "name": "stdout",
     "output_type": "stream",
     "text": [
      "[['Data Analyst' 'Richie' '60' 'C']\n",
      " ['Data Analyst' 'Niels' '80' 'A']\n",
      " ['Data Analyst' 'Brie' '75' 'B']]\n"
     ]
    }
   ],
   "source": [
    "d = np.array([\n",
    "    [\"Java\",\"Richie\",60,'C'],\n",
    "    [\"Python\",\"Niels\",80,'A'],\n",
    "    ['R', \"Brie\",75,'B']\n",
    "])\n",
    "d[0:,0:1] = \"Data Analyst\"\n",
    "print(d)"
   ]
  },
  {
   "cell_type": "code",
   "execution_count": 17,
   "metadata": {},
   "outputs": [
    {
     "name": "stdout",
     "output_type": "stream",
     "text": [
      "[['Java' 'Richie' '60' 'C']\n",
      " ['Python' 'Niels' '80' 'A']\n",
      " ['R' 'Brie' '90' 'A+']]\n"
     ]
    }
   ],
   "source": [
    "d = np.array([\n",
    "    [\"Java\",\"Richie\",60,'C'],\n",
    "    [\"Python\",\"Niels\",80,'A'],\n",
    "    ['R', \"Brie\",75,'B']\n",
    "])\n",
    "d[2][2] = 90\n",
    "d[2][3]= \"A+\"\n",
    "\n",
    "print(d)"
   ]
  },
  {
   "cell_type": "code",
   "execution_count": 18,
   "metadata": {},
   "outputs": [
    {
     "name": "stdout",
     "output_type": "stream",
     "text": [
      "hello\n"
     ]
    }
   ],
   "source": [
    "tampil = lambda a: print(a) # Lambda\n",
    "\n",
    "tampil(\"hello\")"
   ]
  },
  {
   "cell_type": "code",
   "execution_count": 20,
   "metadata": {},
   "outputs": [
    {
     "name": "stdout",
     "output_type": "stream",
     "text": [
      "30\n",
      "110\n"
     ]
    }
   ],
   "source": [
    "tambah1 = lambda a,b : a+b\n",
    "tambah2 = lambda a,b : print(a+b)\n",
    "\n",
    "hasil = tambah1 (10,20)\n",
    "print(hasil)\n",
    "\n",
    "tambah2(50,60)"
   ]
  },
  {
   "cell_type": "code",
   "execution_count": 21,
   "metadata": {},
   "outputs": [
    {
     "name": "stdout",
     "output_type": "stream",
     "text": [
      "30\n"
     ]
    }
   ],
   "source": [
    "tambah1 = (lambda a,b : a+b)(10,20)\n",
    "\n",
    "print(tambah1)"
   ]
  },
  {
   "cell_type": "code",
   "execution_count": 25,
   "metadata": {},
   "outputs": [
    {
     "name": "stdout",
     "output_type": "stream",
     "text": [
      "150\n",
      "30.0\n"
     ]
    }
   ],
   "source": [
    "def tambah(*a):\n",
    "    total = 0\n",
    "    for i in a :\n",
    "        total += i\n",
    "    return total\n",
    "\n",
    "hasil = tambah(10,20,30,40,50)\n",
    "\n",
    "rata =(lambda a : a / 5)(hasil)\n",
    "\n",
    "print(hasil)\n",
    "print(rata)"
   ]
  },
  {
   "cell_type": "code",
   "execution_count": null,
   "metadata": {},
   "outputs": [],
   "source": []
  }
 ],
 "metadata": {
  "kernelspec": {
   "display_name": "Python 3",
   "language": "python",
   "name": "python3"
  },
  "language_info": {
   "codemirror_mode": {
    "name": "ipython",
    "version": 3
   },
   "file_extension": ".py",
   "mimetype": "text/x-python",
   "name": "python",
   "nbconvert_exporter": "python",
   "pygments_lexer": "ipython3",
   "version": "3.13.0"
  }
 },
 "nbformat": 4,
 "nbformat_minor": 2
}
