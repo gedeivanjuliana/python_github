{
 "cells": [
  {
   "cell_type": "markdown",
   "metadata": {},
   "source": [
    "Operator Aritmatika"
   ]
  },
  {
   "cell_type": "code",
   "execution_count": 1,
   "metadata": {},
   "outputs": [
    {
     "name": "stdout",
     "output_type": "stream",
     "text": [
      "Tambah : 7\n",
      "Kurang : 3\n",
      "bagi : 2.5\n",
      "Kali : 10\n",
      "Sisa bagi : 1\n",
      "Pangkat : 25\n"
     ]
    }
   ],
   "source": [
    "num1 = int(input(\"Masukan Angka 1 = \"))\n",
    "num2 = int(input(\"Masukan Angka 2 = \"))\n",
    "\n",
    "tambah = num1 + num2\n",
    "kurang = num1 - num2\n",
    "bagi = num1 / num2\n",
    "kali = num1 * num2\n",
    "sisa_bagi = num1 % num2\n",
    "pangkat = num1 ** num2\n",
    "\n",
    "print(f\"Tambah : {tambah}\")\n",
    "print(f\"Kurang : {kurang}\")\n",
    "print(f\"bagi : {bagi}\")\n",
    "print(f\"Kali : {kali}\")\n",
    "print(f\"Sisa bagi : {sisa_bagi}\")\n",
    "print(f\"Pangkat : {pangkat}\")\n"
   ]
  },
  {
   "cell_type": "code",
   "execution_count": 2,
   "metadata": {},
   "outputs": [
    {
     "name": "stdout",
     "output_type": "stream",
     "text": [
      "helloworld\n"
     ]
    }
   ],
   "source": [
    "word1 = \"hello\"\n",
    "word2 = \"world\"\n",
    "\n",
    "hasil = word1 + word2\n",
    "print(hasil)"
   ]
  },
  {
   "cell_type": "markdown",
   "metadata": {},
   "source": [
    "Operator Penugasan"
   ]
  },
  {
   "cell_type": "code",
   "execution_count": 3,
   "metadata": {},
   "outputs": [
    {
     "name": "stdout",
     "output_type": "stream",
     "text": [
      "0\n",
      "10\n",
      "9\n",
      "18\n",
      "9.0\n"
     ]
    }
   ],
   "source": [
    "angka = 0\n",
    "print(angka)\n",
    "angka += 10 #angka = angka + 10\n",
    "print(angka)\n",
    "angka -= 1\n",
    "print(angka)\n",
    "angka *= 2\n",
    "print (angka)\n",
    "angka /= 2\n",
    "print(angka)"
   ]
  },
  {
   "cell_type": "markdown",
   "metadata": {},
   "source": [
    "Operator Perbandingan"
   ]
  },
  {
   "cell_type": "code",
   "execution_count": 4,
   "metadata": {},
   "outputs": [
    {
     "name": "stdout",
     "output_type": "stream",
     "text": [
      "False\n",
      "True\n",
      "False\n",
      "False\n",
      "True\n",
      "True\n"
     ]
    }
   ],
   "source": [
    "angka1 = 50\n",
    "angka2 = 100\n",
    "\n",
    "kondisi1 = angka1 > angka2\n",
    "kondisi2 = angka1 < angka2\n",
    "kondisi3 = angka1 == angka2\n",
    "kondisi4 = angka1 >= angka2\n",
    "kondisi5 = angka1 <= angka2\n",
    "kondisi6 = angka1 != angka2\n",
    "\n",
    "print(kondisi1)\n",
    "print(kondisi2)\n",
    "print(kondisi3)\n",
    "print(kondisi4)\n",
    "print(kondisi5)\n",
    "print(kondisi6)"
   ]
  },
  {
   "cell_type": "markdown",
   "metadata": {},
   "source": [
    "Operator Logika"
   ]
  },
  {
   "cell_type": "code",
   "execution_count": 5,
   "metadata": {},
   "outputs": [
    {
     "name": "stdout",
     "output_type": "stream",
     "text": [
      "False\n",
      "True\n"
     ]
    }
   ],
   "source": [
    "angka1 = 50\n",
    "angka2 = 100\n",
    "angka3 = 40\n",
    "angka4 = 90\n",
    "\n",
    "# operator and :\n",
    "# true and true = true\n",
    "# true and false = false\n",
    "# false and false = false\n",
    "\n",
    "# operator or :\n",
    "# true or true = true\n",
    "# true or false = true\n",
    "# false or false = false\n",
    "\n",
    "kondisi1 = angka1>angka2 and angka3 < angka4\n",
    "kondisi2 = angka1 > angka2 or angka3 < angka4\n",
    "\n",
    "print(kondisi1)\n",
    "print(kondisi2)"
   ]
  },
  {
   "cell_type": "markdown",
   "metadata": {},
   "source": [
    "In, Not In, Is"
   ]
  },
  {
   "cell_type": "code",
   "execution_count": 7,
   "metadata": {},
   "outputs": [
    {
     "name": "stdout",
     "output_type": "stream",
     "text": [
      "True\n",
      "False\n",
      "True\n"
     ]
    }
   ],
   "source": [
    "data = [1,2,3,4,5]\n",
    "angka = 1\n",
    "a = angka\n",
    "\n",
    "print(angka in data)\n",
    "print(angka not in data)\n",
    "print(angka is a)"
   ]
  },
  {
   "cell_type": "markdown",
   "metadata": {},
   "source": [
    "assignment"
   ]
  },
  {
   "cell_type": "code",
   "execution_count": 9,
   "metadata": {},
   "outputs": [
    {
     "name": "stdout",
     "output_type": "stream",
     "text": [
      "0\n",
      "1\n",
      "3\n",
      "6\n",
      "10\n",
      "15\n",
      "14\n",
      "12\n",
      "9\n",
      "5\n",
      "0\n"
     ]
    }
   ],
   "source": [
    "angka = 0\n",
    "print(angka)\n",
    "angka += 1\n",
    "print(angka)\n",
    "angka += 2\n",
    "print(angka)\n",
    "angka += 3\n",
    "print(angka)\n",
    "angka += 4\n",
    "print(angka)\n",
    "angka += 5\n",
    "print(angka)\n",
    "\n",
    "angka -= 1\n",
    "print(angka)\n",
    "angka -= 2\n",
    "print(angka)\n",
    "angka -= 3\n",
    "print(angka)\n",
    "angka -= 4\n",
    "print(angka)\n",
    "angka -= 5\n",
    "print(angka)"
   ]
  },
  {
   "cell_type": "code",
   "execution_count": 10,
   "metadata": {},
   "outputs": [
    {
     "name": "stdout",
     "output_type": "stream",
     "text": [
      "False\n",
      "True\n"
     ]
    }
   ],
   "source": [
    "num1 = 10\n",
    "num2 = 20\n",
    "num3 = 30\n",
    "num4 = 40\n",
    "\n",
    "kondisi1 = num1 > num3\n",
    "kondisi2 = num2 < num4\n",
    "\n",
    "print(kondisi1)\n",
    "print(kondisi2)"
   ]
  },
  {
   "cell_type": "code",
   "execution_count": 11,
   "metadata": {},
   "outputs": [
    {
     "name": "stdout",
     "output_type": "stream",
     "text": [
      "1000\n"
     ]
    }
   ],
   "source": [
    "num1 = int(input(\"masukan angka: 1\"))\n",
    "num2 = int(input(\"masukan angka: 2\"))\n",
    "\n",
    "angka1 = num1 ** num2\n",
    "print(angka1)"
   ]
  },
  {
   "cell_type": "code",
   "execution_count": 12,
   "metadata": {},
   "outputs": [
    {
     "name": "stdout",
     "output_type": "stream",
     "text": [
      "True\n"
     ]
    }
   ],
   "source": [
    "angka1 = 10\n",
    "angka2 = 2\n",
    "\n",
    "print(angka1 % angka2 == 0)"
   ]
  },
  {
   "cell_type": "markdown",
   "metadata": {},
   "source": [
    "if statment"
   ]
  },
  {
   "cell_type": "code",
   "execution_count": 17,
   "metadata": {},
   "outputs": [
    {
     "name": "stdout",
     "output_type": "stream",
     "text": [
      "True\n",
      "hallo admin\n"
     ]
    }
   ],
   "source": [
    "username = \"admin\"\n",
    "\n",
    "print(username == \"admin\")\n",
    "\n",
    "#if akan berjalan jika kondisi = true\n",
    "\n",
    "if username == \"admin\":\n",
    "    print(f\"hallo {username}\")"
   ]
  },
  {
   "cell_type": "markdown",
   "metadata": {},
   "source": [
    "else statement"
   ]
  },
  {
   "cell_type": "code",
   "execution_count": 18,
   "metadata": {},
   "outputs": [
    {
     "name": "stdout",
     "output_type": "stream",
     "text": [
      "bukan admin\n"
     ]
    }
   ],
   "source": [
    "username = \"wahyu\"\n",
    "if username == \"admin\" :\n",
    "    print(f\"hallo {username}\")\n",
    "else :\n",
    "    print(f\"bukan admin\")"
   ]
  },
  {
   "cell_type": "markdown",
   "metadata": {},
   "source": [
    "Elif Statement"
   ]
  },
  {
   "cell_type": "code",
   "execution_count": 19,
   "metadata": {},
   "outputs": [
    {
     "name": "stdout",
     "output_type": "stream",
     "text": [
      "hallo agung\n"
     ]
    }
   ],
   "source": [
    "username = \"agung\"\n",
    "\n",
    "if username == \"admin\" :\n",
    "    print(f\"hallo {username}\")\n",
    "elif username == \"wahyu\" :\n",
    "    print(f\"hallo {username}\")\n",
    "elif username == \"agung\" :\n",
    "    print(f\"hallo {username}\")\n",
    "else :\n",
    "    print(\"Bukan Admin\")"
   ]
  },
  {
   "cell_type": "markdown",
   "metadata": {},
   "source": [
    "multiple statement"
   ]
  },
  {
   "cell_type": "code",
   "execution_count": 25,
   "metadata": {},
   "outputs": [
    {
     "name": "stdout",
     "output_type": "stream",
     "text": [
      "hallo admin\n"
     ]
    }
   ],
   "source": [
    "username = \"admin\"\n",
    "password = 123\n",
    "\n",
    "if username == \"admin\" and password == 123 :\n",
    "    print(f\"hallo {username}\")\n",
    "elif username == \"wahyu\" or password == 123 :\n",
    "    prnt(f\"hallo {username}\")"
   ]
  },
  {
   "cell_type": "markdown",
   "metadata": {},
   "source": [
    "assignment"
   ]
  },
  {
   "cell_type": "code",
   "execution_count": 45,
   "metadata": {},
   "outputs": [
    {
     "name": "stdout",
     "output_type": "stream",
     "text": [
      "D\n"
     ]
    }
   ],
   "source": [
    "num1 = int(input(\"Masukan Angka 1 =\"))\n",
    "\n",
    "if num1 <= 50 :\n",
    "    print(f\"D\")\n",
    "elif num1 <70 :\n",
    "    print(f\"C\")\n",
    "elif num1 == 70 :\n",
    "    print(f\"C\")\n",
    "elif num1 <80 :\n",
    "    print(f\"B\")\n",
    "elif num1 == 80 :\n",
    "    print(f\"B\")\n",
    "elif num1 >=80 :\n",
    "    print(f\"A\")\n",
    "\n",
    "\n"
   ]
  },
  {
   "cell_type": "code",
   "execution_count": 44,
   "metadata": {},
   "outputs": [
    {
     "name": "stdout",
     "output_type": "stream",
     "text": [
      "genap\n"
     ]
    }
   ],
   "source": [
    "num1 = int(input(\"Masukan Angka 1 =\"))\n",
    "num2 = 2\n",
    "kondisi1 = num1 % num2\n",
    "\n",
    "if kondisi1 == 0:\n",
    "    print(f\"genap\")\n",
    "else :\n",
    "    print(\"ganjil\")"
   ]
  },
  {
   "cell_type": "code",
   "execution_count": null,
   "metadata": {},
   "outputs": [],
   "source": []
  }
 ],
 "metadata": {
  "kernelspec": {
   "display_name": "Python 3",
   "language": "python",
   "name": "python3"
  },
  "language_info": {
   "codemirror_mode": {
    "name": "ipython",
    "version": 3
   },
   "file_extension": ".py",
   "mimetype": "text/x-python",
   "name": "python",
   "nbconvert_exporter": "python",
   "pygments_lexer": "ipython3",
   "version": "3.13.0"
  }
 },
 "nbformat": 4,
 "nbformat_minor": 2
}
