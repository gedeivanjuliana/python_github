{
 "cells": [
  {
   "cell_type": "markdown",
   "metadata": {},
   "source": [
    "Input"
   ]
  },
  {
   "cell_type": "code",
   "execution_count": 4,
   "metadata": {},
   "outputs": [
    {
     "name": "stdout",
     "output_type": "stream",
     "text": [
      "Nama : 100\n",
      "Tipe data: <class 'str'>\n"
     ]
    }
   ],
   "source": [
    "nama=input(\"masukan nama :\")\n",
    "print(\"Nama :\", nama)\n",
    "print(\"Tipe data:\",type(nama))"
   ]
  },
  {
   "cell_type": "code",
   "execution_count": 5,
   "metadata": {},
   "outputs": [
    {
     "name": "stdout",
     "output_type": "stream",
     "text": [
      "Value : 100\n",
      "Tipe data: <class 'int'>\n"
     ]
    }
   ],
   "source": [
    "angka = int(input(\"masukan Value\"))\n",
    "print(\"Value :\", angka)\n",
    "print(\"Tipe data:\",type(angka))"
   ]
  },
  {
   "cell_type": "code",
   "execution_count": 11,
   "metadata": {},
   "outputs": [
    {
     "name": "stdout",
     "output_type": "stream",
     "text": [
      "hello\n",
      "test\n",
      "hello ivan selamat datang\n",
      "test!!!hallo\n",
      "a@b@c\n"
     ]
    }
   ],
   "source": [
    "nama=\"ivan\"\n",
    "print(\"hello\\ntest\")\n",
    "print(\"hello\",nama,\"selamat datang\")\n",
    "print(\"test\", end =\"!!!\")\n",
    "print(\"hallo\")\n",
    "print(\"a\",\"b\",\"c\", sep= \"@\")"
   ]
  },
  {
   "cell_type": "code",
   "execution_count": 17,
   "metadata": {},
   "outputs": [
    {
     "name": "stdout",
     "output_type": "stream",
     "text": [
      "Nama : ivan Alamat : denpasar\n",
      "Nama :ivan, Alamat :denpasar\n",
      "Nama :ivan, Alamat: denpasar\n",
      "Alamat :denpasar, Nama : ivan\n",
      "Nama : ivan, Alamat : denpasar\n"
     ]
    }
   ],
   "source": [
    "nama = \"ivan\"\n",
    "alamat = \"denpasar\"\n",
    "print(\"Nama :\", nama, \"Alamat :\", alamat)\n",
    "print(f\"Nama :{nama}, Alamat :{alamat}\")\n",
    "print(\"Nama :{}, Alamat: {}\".format(nama,alamat))\n",
    "print(\"Alamat :{1}, Nama : {0}\".format(nama, alamat))\n",
    "print(\"Nama : {a}, Alamat : {b}\".format(a=nama, b=alamat))"
   ]
  },
  {
   "cell_type": "markdown",
   "metadata": {},
   "source": []
  },
  {
   "cell_type": "code",
   "execution_count": 18,
   "metadata": {},
   "outputs": [
    {
     "name": "stdout",
     "output_type": "stream",
     "text": [
      "Angka = 20, test\n"
     ]
    }
   ],
   "source": [
    "angka = 20\n",
    "huruf = \"test\"\n",
    "\n",
    "print(\"Angka = %d, %s\" %(angka,huruf))"
   ]
  },
  {
   "cell_type": "code",
   "execution_count": 21,
   "metadata": {},
   "outputs": [
    {
     "name": "stdout",
     "output_type": "stream",
     "text": [
      "Masukan Nama : Robert\n",
      "Masukan Umur : 14\n",
      "Masukan Alamat : Jalan Tukad Batanghari\n"
     ]
    }
   ],
   "source": [
    "nama =input(\"Masukan Nama :\")\n",
    "umur=input(\"Masukan Umur :\")\n",
    "alamat=input(\"Masukan Alamat:\")\n",
    "print(\"Masukan Nama :\", nama)\n",
    "print(\"Masukan Umur :\", umur)\n",
    "print(\"Masukan Alamat :\", alamat)"
   ]
  },
  {
   "cell_type": "code",
   "execution_count": 28,
   "metadata": {},
   "outputs": [
    {
     "name": "stdout",
     "output_type": "stream",
     "text": [
      "Halo Robert Selamat Datang di Koding Akademi !\n",
      "Berikut Identitas Anda :\n",
      "Nama = Robert\n",
      "Umur =  14\n",
      "Almat = Jalan Tukad Batanghari\n"
     ]
    }
   ],
   "source": [
    "nama = \"Robert\"\n",
    "umur = \"14\"\n",
    "alamat = \"Jalan Tukad Batanghari\"\n",
    "halo = input(\"perkenalan\")\n",
    "halo2 = input (\"perkenalan2\")\n",
    "\n",
    "print(halo)\n",
    "print(halo2)\n",
    "print(\"Nama =\", nama)\n",
    "print(\"Umur = \", umur)\n",
    "print(\"Almat =\", alamat)"
   ]
  },
  {
   "cell_type": "code",
   "execution_count": 31,
   "metadata": {},
   "outputs": [
    {
     "name": "stdout",
     "output_type": "stream",
     "text": [
      "Halo Robert Selamat Datang di Koding Akademi !\n",
      "Berikut Identitas Anda :\n",
      "Nama = Robert,\n",
      "Umur = 14,\n",
      "Alamat =Jalan Tukad Batanghari\n"
     ]
    }
   ],
   "source": [
    "nama = \"Robert\"\n",
    "umur = \"14\"\n",
    "alamat = \"Jalan Tukad Batanghari\"\n",
    "halo = input(\"perkenalan\")\n",
    "halo2 = input (\"perkenalan2\")\n",
    "\n",
    "print(halo)\n",
    "print(halo2)\n",
    "print(f\"Nama = {nama},\\nUmur = {umur},\\nAlamat ={alamat}\")"
   ]
  },
  {
   "cell_type": "code",
   "execution_count": null,
   "metadata": {},
   "outputs": [],
   "source": []
  }
 ],
 "metadata": {
  "kernelspec": {
   "display_name": "Python 3",
   "language": "python",
   "name": "python3"
  },
  "language_info": {
   "codemirror_mode": {
    "name": "ipython",
    "version": 3
   },
   "file_extension": ".py",
   "mimetype": "text/x-python",
   "name": "python",
   "nbconvert_exporter": "python",
   "pygments_lexer": "ipython3",
   "version": "3.13.0"
  }
 },
 "nbformat": 4,
 "nbformat_minor": 2
}
